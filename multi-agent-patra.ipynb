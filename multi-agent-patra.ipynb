{
 "cells": [
  {
   "cell_type": "code",
   "id": "0d7b6dcc-c985-46e2-8457-7e6b0298b950",
   "metadata": {
    "ExecuteTime": {
     "end_time": "2024-08-07T20:09:33.550661Z",
     "start_time": "2024-08-07T20:09:33.547893Z"
    }
   },
   "source": [
    "# %%capture --no-stderr\n",
    "# %pip install -U langchain langchain_openai langsmith pandas langchain_experimental matplotlib langgraph langchain_core"
   ],
   "outputs": [],
   "execution_count": 1
  },
  {
   "cell_type": "code",
   "id": "743c19df-6da9-4d1e-b2d2-ea40080b9fdc",
   "metadata": {
    "ExecuteTime": {
     "end_time": "2024-08-07T20:09:33.556433Z",
     "start_time": "2024-08-07T20:09:33.552201Z"
    }
   },
   "source": [
    "import getpass\n",
    "import os\n"
   ],
   "outputs": [],
   "execution_count": 2
  },
  {
   "metadata": {
    "ExecuteTime": {
     "end_time": "2024-08-07T20:09:34.866848Z",
     "start_time": "2024-08-07T20:09:33.557605Z"
    }
   },
   "cell_type": "code",
   "source": [
    "from patra_agent.cypher_templates import patra_agent_template, patra_generation_template\n",
    "from patra_agent.util import llm, graph, top_k_results"
   ],
   "id": "a3a20615953b7db2",
   "outputs": [
    {
     "name": "stderr",
     "output_type": "stream",
     "text": [
      "/Users/swithana/git/d2i/patra-agents/.venv/lib/python3.9/site-packages/urllib3/__init__.py:35: NotOpenSSLWarning: urllib3 v2 only supports OpenSSL 1.1.1+, currently the 'ssl' module is compiled with 'LibreSSL 2.8.3'. See: https://github.com/urllib3/urllib3/issues/3020\n",
      "  warnings.warn(\n"
     ]
    }
   ],
   "execution_count": 3
  },
  {
   "cell_type": "markdown",
   "id": "5e4344a7-21df-4d54-90d2-9d19b3416ffb",
   "metadata": {},
   "source": [
    "## Create Agents\n",
    "\n",
    "The following helper functions will help create agents. These agents will then be nodes in the graph.\n",
    "\n",
    "You can skip ahead if you just want to see what the graph looks like."
   ]
  },
  {
   "cell_type": "code",
   "id": "4325a10e-38dc-4a98-9004-e1525eaba377",
   "metadata": {
    "ExecuteTime": {
     "end_time": "2024-08-07T20:09:35.111056Z",
     "start_time": "2024-08-07T20:09:34.868021Z"
    }
   },
   "source": [
    "from langchain.agents import create_openai_functions_agent, AgentExecutor\n",
    "from langchain_core.messages import (\n",
    "    BaseMessage,\n",
    "    HumanMessage,\n",
    "    ToolMessage,\n",
    ")\n",
    "from langchain_core.prompts import ChatPromptTemplate, MessagesPlaceholder\n",
    "\n",
    "from langgraph.graph import END, StateGraph, START\n",
    "\n",
    "# \n",
    "def create_agent(llm, tools, template: str, system_message: str):\n",
    "    \"\"\"Create an agent.\"\"\"\n",
    "    prompt = ChatPromptTemplate.from_messages(\n",
    "        [\n",
    "            (\n",
    "                \"system\",\n",
    "                template + \"\\n{system_message}\",\n",
    "            ),\n",
    "            MessagesPlaceholder(variable_name=\"messages\"),\n",
    "        ]\n",
    "    )\n",
    "    prompt = prompt.partial(system_message=system_message)\n",
    "    if tools is not None:\n",
    "        prompt = prompt.partial(tool_names=\", \".join([tool.name for tool in tools]))\n",
    "        return prompt | llm.bind_tools(tools)\n",
    "    else:\n",
    "        return prompt | llm\n",
    "\n",
    "# def create_agent(llm, tools, template: str, system_message: str):\n",
    "#     \"\"\"Create an agent.\"\"\"\n",
    "#     prompt = ChatPromptTemplate.from_messages(\n",
    "#         [\n",
    "#             (\n",
    "#                 \"system\",\n",
    "#                 template +\n",
    "#                 \"\\n{system_message}\",\n",
    "#             ),\n",
    "#             MessagesPlaceholder(variable_name=\"messages\"),\n",
    "#             MessagesPlaceholder(variable_name=\"agent_scratchpad\"),\n",
    "#         ]\n",
    "#     )\n",
    "#     prompt = prompt.partial(system_message=system_message)\n",
    "#     agent = create_openai_functions_agent(llm, tools, prompt)\n",
    "#     executor = AgentExecutor(agent=agent, tools=tools)\n",
    "#     return executor\n"
   ],
   "outputs": [],
   "execution_count": 4
  },
  {
   "cell_type": "markdown",
   "id": "b4b40de2-5dd4-4d5b-882e-577210723ff4",
   "metadata": {},
   "source": [
    "## Define tools\n",
    "\n",
    "We will also define some tools that our agents will use in the future"
   ]
  },
  {
   "cell_type": "code",
   "id": "ca076f3b-a729-4ca9-8f91-05c2ba58d610",
   "metadata": {
    "ExecuteTime": {
     "end_time": "2024-08-07T20:09:35.132200Z",
     "start_time": "2024-08-07T20:09:35.113126Z"
    }
   },
   "source": [
    "from typing import Annotated\n",
    "\n",
    "from langchain_community.tools.tavily_search import TavilySearchResults\n",
    "from langchain_core.tools import tool\n",
    "from langchain_experimental.utilities import PythonREPL\n",
    "\n",
    "tavily_tool = TavilySearchResults(max_results=5)\n",
    "\n",
    "\n",
    "# Tools for Patra\n",
    "@tool\n",
    "def execute_cypher(\n",
    "        query: Annotated[str, \"Cypher query to execute on the graph\"],\n",
    ") -> Annotated[str, \"Result of the Cypher query execution\"]:\n",
    "    \"\"\"Execute the given cypher query on the graph.\"\"\"\n",
    "    response = graph.query(query)[:top_k_results]\n",
    "    query_result = str(response).replace(\"{\", \"{{\").replace(\"}\", \"}}\")\n",
    "    print(\"+++++++++++++++++++++++\")\n",
    "    print(query_result)\n",
    "    print(\"+++++++++++++++++++++++\")\n",
    "    print(\"+++++++++++++++++++++++\")\n",
    "    return query_result + \" If you have completed all tasks, respond with FINAL ANSWER.\"\n",
    "\n",
    "\n",
    "@tool\n",
    "def print_hello(\n",
    "        name: Annotated[str, \"Name of the person\"],\n",
    ") -> Annotated[str, \"Hello + name\"]:\n",
    "    \"\"\"Returns hello name.\"\"\"\n",
    "    return str(\"Hello, {}!\".format(name))\n",
    "\n"
   ],
   "outputs": [],
   "execution_count": 5
  },
  {
   "cell_type": "markdown",
   "id": "f1b54c0c-0b09-408b-abc5-86308929afb6",
   "metadata": {},
   "source": [
    "## Create graph\n",
    "\n",
    "Now that we've defined our tools and made some helper functions, will create the individual agents below and tell them how to talk to each other using LangGraph."
   ]
  },
  {
   "cell_type": "markdown",
   "id": "0c6a8c3c-86a0-46aa-b970-ab070fb787d9",
   "metadata": {},
   "source": [
    "### Define State\n",
    "\n",
    "We first define the state of the graph. This will just a list of messages, along with a key to track the most recent sender"
   ]
  },
  {
   "cell_type": "code",
   "id": "290c91d4-f6f4-443c-8181-233d39102974",
   "metadata": {
    "ExecuteTime": {
     "end_time": "2024-08-07T20:09:35.135454Z",
     "start_time": "2024-08-07T20:09:35.133071Z"
    }
   },
   "source": [
    "import operator\n",
    "from typing import Annotated, Sequence, TypedDict, List\n",
    "\n",
    "from langchain_openai import ChatOpenAI\n",
    "\n",
    "\n",
    "# This defines the object that is passed between each node\n",
    "# in the graph. We will create different nodes for each agent and tool\n",
    "class AgentState(TypedDict):\n",
    "    messages: Annotated[Sequence[BaseMessage], operator.add]\n",
    "    sender: str"
   ],
   "outputs": [],
   "execution_count": 6
  },
  {
   "cell_type": "markdown",
   "id": "911a283e-ea04-40c1-b792-f9e5f7d81203",
   "metadata": {},
   "source": [
    "### Define Agent Nodes\n",
    "\n",
    "We now need to define the nodes. First, let's define the nodes for the agents."
   ]
  },
  {
   "cell_type": "code",
   "id": "71b790ca-9cef-4b22-b469-4b1d5d8424d6",
   "metadata": {
    "ExecuteTime": {
     "end_time": "2024-08-07T20:09:35.239432Z",
     "start_time": "2024-08-07T20:09:35.136501Z"
    }
   },
   "source": [
    "from langchain_core.messages import AIMessage\n",
    "import functools\n",
    "\n",
    "\n",
    "# Helper function to create a node for a given agent\n",
    "def agent_node(state, agent, name):\n",
    "    result = agent.invoke(state)\n",
    "    # We convert the agent output into a format that is suitable to append to the global state\n",
    "    if isinstance(result, ToolMessage):\n",
    "        pass\n",
    "    else:\n",
    "        result = AIMessage(**result.dict(exclude={\"type\", \"name\"}), name=name)\n",
    "        # state['messages'] = state['messages'] + [result]\n",
    "    return {\n",
    "        \"messages\": [result],\n",
    "        # Since we have a strict workflow, we can\n",
    "        # track the sender so we know who to pass to next.\n",
    "        \"sender\": name,\n",
    "    }\n",
    "\n",
    "def human_node(state, agent, name):\n",
    "    result = agent.invoke(state)\n",
    "    # We convert the agent output into a format that is suitable to append to the global state\n",
    "    if isinstance(result, ToolMessage):\n",
    "        pass\n",
    "    else:\n",
    "        result = HumanMessage(content=result[\"output\"], name=name)\n",
    "        # state['messages'] = state['messages'] + [result]\n",
    "    return {\n",
    "        \"messages\": [result],\n",
    "        # Since we have a strict workflow, we can\n",
    "        # track the sender so we know who to pass to next.\n",
    "        \"sender\": name,\n",
    "    }\n",
    "\n",
    "# llm = ChatOpenAI(model=\"gpt-4-1106-preview\")\n",
    "\n",
    "\n",
    "# Patra agent\n",
    "patra_agent = create_agent(\n",
    "    llm,\n",
    "    [print_hello],\n",
    "    template=patra_agent_template,\n",
    "    system_message=\"Return a single question in english for the Query Executor Agent\",\n",
    ")\n",
    "patra_node = functools.partial(agent_node, agent=patra_agent, name=\"PatraAgent\")\n",
    "\n",
    "query_executor = create_agent(\n",
    "    llm,\n",
    "    [execute_cypher],\n",
    "    template=patra_generation_template,\n",
    "    system_message=\"Execute the query and return the results\",\n",
    ")\n",
    "query_node = functools.partial(agent_node, agent=query_executor, name=\"QueryExecutor\")"
   ],
   "outputs": [],
   "execution_count": 7
  },
  {
   "cell_type": "markdown",
   "id": "71c7f1b2-24a3-4340-bcb2-feb22e344fb6",
   "metadata": {},
   "source": [
    "### Define Tool Node\n",
    "\n",
    "We now define a node to run the tools"
   ]
  },
  {
   "cell_type": "code",
   "id": "d9a79c76-5c7c-42f6-91cf-635bc8305804",
   "metadata": {
    "ExecuteTime": {
     "end_time": "2024-08-07T20:09:35.248086Z",
     "start_time": "2024-08-07T20:09:35.240716Z"
    }
   },
   "source": [
    "from langgraph.prebuilt import ToolNode\n",
    "\n",
    "tools = [execute_cypher]\n",
    "tool_node = ToolNode(tools)"
   ],
   "outputs": [],
   "execution_count": 8
  },
  {
   "cell_type": "markdown",
   "id": "bcb30498-dbc4-4b20-980f-da08ebc9da56",
   "metadata": {},
   "source": [
    "### Define Edge Logic\n",
    "\n",
    "We can define some of the edge logic that is needed to decide what to do based on results of the agents"
   ]
  },
  {
   "cell_type": "code",
   "id": "4f4b4d37-e8a3-4abb-8d42-eaea26016f35",
   "metadata": {
    "ExecuteTime": {
     "end_time": "2024-08-07T20:09:35.251732Z",
     "start_time": "2024-08-07T20:09:35.249142Z"
    }
   },
   "source": [
    "# Either agent can decide to end\n",
    "from typing import Literal\n",
    "\n",
    "\n",
    "def router(state) -> Literal[\"call_tool\", \"__end__\", \"continue\"]:\n",
    "    # This is the router\n",
    "    messages = state[\"messages\"]\n",
    "    last_message = messages[-1]\n",
    "    if isinstance(last_message, ToolMessage) and last_message.tool_calls:\n",
    "        # The previous agent is invoking a tool\n",
    "        return \"call_tool\"\n",
    "    if \"FINAL ANSWER\" in last_message.content:\n",
    "        # Any agent decided the work is done\n",
    "        return \"__end__\"\n",
    "    return \"continue\""
   ],
   "outputs": [],
   "execution_count": 9
  },
  {
   "cell_type": "markdown",
   "id": "e9359c34-e191-43a2-a3d4-f2dea636dfd2",
   "metadata": {},
   "source": [
    "### Define the Graph\n",
    "\n",
    "We can now put it all together and define the graph!"
   ]
  },
  {
   "cell_type": "code",
   "id": "4dce3901-6ad5-4df5-8528-6e865cf96cb0",
   "metadata": {
    "ExecuteTime": {
     "end_time": "2024-08-07T20:09:35.257194Z",
     "start_time": "2024-08-07T20:09:35.252807Z"
    }
   },
   "source": [
    "workflow = StateGraph(AgentState)\n",
    "\n",
    "workflow.add_node(\"PatraAgent\", patra_node)\n",
    "workflow.add_node(\"QueryExecutor\", query_node)\n",
    "workflow.add_node(\"call_tool\", tool_node)\n",
    "\n",
    "# workflow.add_edge(\"call_tool\", \"PatraAgent\")\n",
    "# workflow.add_edge(\"QueryExecutor\", \"PatraAgent\")\n",
    "workflow.add_edge(\"QueryExecutor\", \"call_tool\")\n",
    "# workflow.add_edge(\"PatraAgent\", \"QueryExecutor\")\n",
    "workflow.add_edge(\"call_tool\", \"PatraAgent\")\n",
    "workflow.add_conditional_edges(\n",
    "    \"PatraAgent\",\n",
    "    router,\n",
    "    {\"continue\": \"QueryExecutor\", \"__end__\": END},\n",
    ")\n",
    "# workflow.add_conditional_edges(\n",
    "#     \"QueryExecutor\",\n",
    "#     router,\n",
    "#     {\"continue\": \"PatraAgent\"},\n",
    "# )\n",
    "# \n",
    "# workflow.add_conditional_edges(\n",
    "#     \"call_tool\",\n",
    "#     # Each agent node updates the 'sender' field\n",
    "#     # the tool calling node does not, meaning\n",
    "#     # this edge will route back to the original agent\n",
    "#     # who invoked the tool\n",
    "#     lambda x: x[\"sender\"],\n",
    "#     {\n",
    "#         \"PatraAgent\": \"PatraAgent\",\n",
    "#         \"QueryExecutor\": \"QueryExecutor\",\n",
    "#     },\n",
    "# )\n",
    "workflow.add_edge(START, \"PatraAgent\")\n",
    "# workflow.add_edge(START, \"QueryExecutor\")\n",
    "# workflow.add_edge(\"QueryExecutor\", END)\n",
    "app = workflow.compile()"
   ],
   "outputs": [],
   "execution_count": 10
  },
  {
   "cell_type": "code",
   "id": "97f8e0eb",
   "metadata": {
    "ExecuteTime": {
     "end_time": "2024-08-07T20:09:36.021030Z",
     "start_time": "2024-08-07T20:09:35.258355Z"
    }
   },
   "source": [
    "from IPython.display import Image, display\n",
    "\n",
    "try:\n",
    "    display(Image(app.get_graph(xray=True).draw_mermaid_png()))\n",
    "except Exception:\n",
    "    # This requires some extra dependencies and is optional\n",
    "    pass"
   ],
   "outputs": [
    {
     "data": {
      "image/jpeg": "[encoded data removed]",
      "text/plain": [
       "<IPython.core.display.Image object>"
      ]
     },
     "metadata": {},
     "output_type": "display_data"
    }
   ],
   "execution_count": 11
  },
  {
   "cell_type": "code",
   "id": "176a99b0-b457-45cf-8901-90facaa852da",
   "metadata": {
    "ExecuteTime": {
     "end_time": "2024-08-07T20:14:24.536069Z",
     "start_time": "2024-08-07T20:14:13.915978Z"
    }
   },
   "source": [
    "events = app.stream(\n",
    "    {\n",
    "        \"messages\": [\n",
    "            HumanMessage(\n",
    "                content=\"out of all the models deployed at edgeDevice with location griffy-lake, which one has the best CPU power consumption for deployments?\"\n",
    "            )\n",
    "        ],\n",
    "    },\n",
    "    # Maximum number of steps to take in the graph\n",
    "    {\"recursion_limit\": 10},\n",
    ")\n",
    "for s in events:\n",
    "    print(s)\n",
    "    print(\"----\")"
   ],
   "outputs": [
    {
     "name": "stdout",
     "output_type": "stream",
     "text": [
      "{'PatraAgent': {'messages': [AIMessage(content='What are the models deployed at the edgeDevice with location griffy-lake?', response_metadata={'token_usage': {'completion_tokens': 17, 'prompt_tokens': 258, 'total_tokens': 275}, 'model_name': 'gpt-4o-2024-05-13', 'system_fingerprint': 'fp_3aa7262c27', 'finish_reason': 'stop', 'logprobs': None}, name='PatraAgent', id='run-859ff6ee-514e-4c9a-a21d-c55ea1e89a95-0', usage_metadata={'input_tokens': 258, 'output_tokens': 17, 'total_tokens': 275})], 'sender': 'PatraAgent'}}\n",
      "----\n",
      "{'QueryExecutor': {'messages': [AIMessage(content='', additional_kwargs={'tool_calls': [{'id': 'call_g9wPmYVrtHDuGRTiXMa2QQKl', 'function': {'arguments': '{\"query\":\"MATCH (d:EdgeDevice {location: \\'griffy-lake\\'})-[r:EXECUTED_ON]-(e:Experiment)-[r2:USED]-(m:Model) RETURN DISTINCT m.model_id AS model_id\"}', 'name': 'execute_cypher'}, 'type': 'function'}]}, response_metadata={'token_usage': {'completion_tokens': 62, 'prompt_tokens': 993, 'total_tokens': 1055}, 'model_name': 'gpt-4o-2024-05-13', 'system_fingerprint': 'fp_3aa7262c27', 'finish_reason': 'tool_calls', 'logprobs': None}, name='QueryExecutor', id='run-d87dc921-b158-43f9-851c-3984244f61aa-0', tool_calls=[{'name': 'execute_cypher', 'args': {'query': \"MATCH (d:EdgeDevice {location: 'griffy-lake'})-[r:EXECUTED_ON]-(e:Experiment)-[r2:USED]-(m:Model) RETURN DISTINCT m.model_id AS model_id\"}, 'id': 'call_g9wPmYVrtHDuGRTiXMa2QQKl', 'type': 'tool_call'}], usage_metadata={'input_tokens': 993, 'output_tokens': 62, 'total_tokens': 1055})], 'sender': 'QueryExecutor'}}\n",
      "----\n",
      "+++++++++++++++++++++++\n",
      "[{{'model_id': 'ec3f6227-14c5-4873-96d7-14ddcaf9b34a-model'}}, {{'model_id': '41d3ed40-b836-4a62-b3fb-67cee79f33d9-model'}}]\n",
      "+++++++++++++++++++++++\n",
      "+++++++++++++++++++++++\n",
      "{'call_tool': {'messages': [ToolMessage(content=\"[{{'model_id': 'ec3f6227-14c5-4873-96d7-14ddcaf9b34a-model'}}, {{'model_id': '41d3ed40-b836-4a62-b3fb-67cee79f33d9-model'}}] If you have completed all tasks, respond with FINAL ANSWER.\", name='execute_cypher', tool_call_id='call_g9wPmYVrtHDuGRTiXMa2QQKl')]}}\n",
      "----\n",
      "{'PatraAgent': {'messages': [AIMessage(content=\"What are the CPU power consumption values for the models with IDs 'ec3f6227-14c5-4873-96d7-14ddcaf9b34a-model' and '41d3ed40-b836-4a62-b3fb-67cee79f33d9-model' during deployments?\", response_metadata={'token_usage': {'completion_tokens': 69, 'prompt_tokens': 435, 'total_tokens': 504}, 'model_name': 'gpt-4o-2024-05-13', 'system_fingerprint': 'fp_3aa7262c27', 'finish_reason': 'stop', 'logprobs': None}, name='PatraAgent', id='run-c8a11ebf-183a-4407-8d5c-0c59a772a7ff-0', usage_metadata={'input_tokens': 435, 'output_tokens': 69, 'total_tokens': 504})], 'sender': 'PatraAgent'}}\n",
      "----\n",
      "{'QueryExecutor': {'messages': [AIMessage(content='', additional_kwargs={'tool_calls': [{'id': 'call_SPNx8XR469DhmtfU8Ahwmk31', 'function': {'arguments': '{\"query\": \"MATCH (d:Deployment)-[r:HAS_DEPLOYMENT]-(m:Model {model_id: \\'ec3f6227-14c5-4873-96d7-14ddcaf9b34a-model\\'}) RETURN d, d.total_cpu_power_consumption AS cpu_power_consumption ORDER BY cpu_power_consumption ASC LIMIT 1\"}', 'name': 'execute_cypher'}, 'type': 'function'}, {'id': 'call_9hFCgHw6n4cNI5SAXemhxcG2', 'function': {'arguments': '{\"query\": \"MATCH (d:Deployment)-[r:HAS_DEPLOYMENT]-(m:Model {model_id: \\'41d3ed40-b836-4a62-b3fb-67cee79f33d9-model\\'}) RETURN d, d.total_cpu_power_consumption AS cpu_power_consumption ORDER BY cpu_power_consumption ASC LIMIT 1\"}', 'name': 'execute_cypher'}, 'type': 'function'}]}, response_metadata={'token_usage': {'completion_tokens': 190, 'prompt_tokens': 1222, 'total_tokens': 1412}, 'model_name': 'gpt-4o-2024-05-13', 'system_fingerprint': 'fp_3aa7262c27', 'finish_reason': 'tool_calls', 'logprobs': None}, name='QueryExecutor', id='run-35f9529e-d7a4-4722-9979-18d97bb2d740-0', tool_calls=[{'name': 'execute_cypher', 'args': {'query': \"MATCH (d:Deployment)-[r:HAS_DEPLOYMENT]-(m:Model {model_id: 'ec3f6227-14c5-4873-96d7-14ddcaf9b34a-model'}) RETURN d, d.total_cpu_power_consumption AS cpu_power_consumption ORDER BY cpu_power_consumption ASC LIMIT 1\"}, 'id': 'call_SPNx8XR469DhmtfU8Ahwmk31', 'type': 'tool_call'}, {'name': 'execute_cypher', 'args': {'query': \"MATCH (d:Deployment)-[r:HAS_DEPLOYMENT]-(m:Model {model_id: '41d3ed40-b836-4a62-b3fb-67cee79f33d9-model'}) RETURN d, d.total_cpu_power_consumption AS cpu_power_consumption ORDER BY cpu_power_consumption ASC LIMIT 1\"}, 'id': 'call_9hFCgHw6n4cNI5SAXemhxcG2', 'type': 'tool_call'}], usage_metadata={'input_tokens': 1222, 'output_tokens': 190, 'total_tokens': 1412})], 'sender': 'QueryExecutor'}}\n",
      "----\n",
      "+++++++++++++++++++++++\n",
      "[{{'d': {{'image_generating_plugin_gpu_power_consumption': 1.0760370370370371, 'end_time': 1722998667035, 'device_type': 'jetson-nano', 'total_gpu_power_consumption': 10.229599715099717, 'image_generating_plugin_cpu_power_consumption': 8.631407407407407, 'start_time': 1722998666053, 'power_monitor_plugin_cpu_power_consumption': 7.591555555555556, 'power_monitor_plugin_gpu_power_consumption': 3.0713703703703703, 'total_cpu_power_consumption': 26.892001424501423, 'image_scoring_plugin_cpu_power_consumption': 10.669038461538461, 'image_scoring_plugin_gpu_power_consumption': 6.082192307692308, 'deployment_id': 'googlenet-iu-animal-classification', 'average_accuracy': 65}}, 'cpu_power_consumption': 26.892001424501423}}]\n",
      "+++++++++++++++++++++++\n",
      "+++++++++++++++++++++++\n",
      "+++++++++++++++++++++++\n",
      "[{{'d': {{'image_generating_plugin_gpu_power_consumption': 1.0760370370370371, 'end_time': 1722998164373, 'device_type': 'jetson-nano', 'total_gpu_power_consumption': 6.229599715099715, 'image_generating_plugin_cpu_power_consumption': 8.631407407407407, 'start_time': 1722998162384, 'power_monitor_plugin_cpu_power_consumption': 6.591555555555556, 'power_monitor_plugin_gpu_power_consumption': 2.0713703703703703, 'total_cpu_power_consumption': 20.792001424501425, 'image_scoring_plugin_cpu_power_consumption': 5.569038461538462, 'image_scoring_plugin_gpu_power_consumption': 3.0821923076923077, 'deployment_id': 'megadetector-iu-animal-test', 'average_accuracy': 82.2}}, 'cpu_power_consumption': 20.792001424501425}}]\n",
      "+++++++++++++++++++++++\n",
      "+++++++++++++++++++++++\n",
      "{'call_tool': {'messages': [ToolMessage(content=\"[{{'d': {{'image_generating_plugin_gpu_power_consumption': 1.0760370370370371, 'end_time': 1722998667035, 'device_type': 'jetson-nano', 'total_gpu_power_consumption': 10.229599715099717, 'image_generating_plugin_cpu_power_consumption': 8.631407407407407, 'start_time': 1722998666053, 'power_monitor_plugin_cpu_power_consumption': 7.591555555555556, 'power_monitor_plugin_gpu_power_consumption': 3.0713703703703703, 'total_cpu_power_consumption': 26.892001424501423, 'image_scoring_plugin_cpu_power_consumption': 10.669038461538461, 'image_scoring_plugin_gpu_power_consumption': 6.082192307692308, 'deployment_id': 'googlenet-iu-animal-classification', 'average_accuracy': 65}}, 'cpu_power_consumption': 26.892001424501423}}] If you have completed all tasks, respond with FINAL ANSWER.\", name='execute_cypher', tool_call_id='call_SPNx8XR469DhmtfU8Ahwmk31'), ToolMessage(content=\"[{{'d': {{'image_generating_plugin_gpu_power_consumption': 1.0760370370370371, 'end_time': 1722998164373, 'device_type': 'jetson-nano', 'total_gpu_power_consumption': 6.229599715099715, 'image_generating_plugin_cpu_power_consumption': 8.631407407407407, 'start_time': 1722998162384, 'power_monitor_plugin_cpu_power_consumption': 6.591555555555556, 'power_monitor_plugin_gpu_power_consumption': 2.0713703703703703, 'total_cpu_power_consumption': 20.792001424501425, 'image_scoring_plugin_cpu_power_consumption': 5.569038461538462, 'image_scoring_plugin_gpu_power_consumption': 3.0821923076923077, 'deployment_id': 'megadetector-iu-animal-test', 'average_accuracy': 82.2}}, 'cpu_power_consumption': 20.792001424501425}}] If you have completed all tasks, respond with FINAL ANSWER.\", name='execute_cypher', tool_call_id='call_9hFCgHw6n4cNI5SAXemhxcG2')]}}\n",
      "----\n",
      "{'PatraAgent': {'messages': [AIMessage(content='The models deployed at the edgeDevice with location griffy-lake are:\\n\\n1. Model ID: ec3f6227-14c5-4873-96d7-14ddcaf9b34a-model\\n   - Best CPU Power Consumption: 26.892001424501423\\n\\n2. Model ID: 41d3ed40-b836-4a62-b3fb-67cee79f33d9-model\\n   - Best CPU Power Consumption: 20.792001424501425\\n\\nThe model with the best CPU power consumption for deployments is the one with Model ID: 41d3ed40-b836-4a62-b3fb-67cee79f33d9-model, having a CPU power consumption of 20.792001424501425.\\n\\nFINAL ANSWER', response_metadata={'token_usage': {'completion_tokens': 169, 'prompt_tokens': 1188, 'total_tokens': 1357}, 'model_name': 'gpt-4o-2024-05-13', 'system_fingerprint': 'fp_3aa7262c27', 'finish_reason': 'stop', 'logprobs': None}, name='PatraAgent', id='run-e4754b39-c42b-4645-a17e-5a04be60c0a9-0', usage_metadata={'input_tokens': 1188, 'output_tokens': 169, 'total_tokens': 1357})], 'sender': 'PatraAgent'}}\n",
      "----\n"
     ]
    }
   ],
   "execution_count": 16
  },
  {
   "cell_type": "code",
   "id": "010fc36e-4116-4758-bcac-b02c7dcd405d",
   "metadata": {
    "ExecuteTime": {
     "end_time": "2024-08-07T20:09:38.415394Z",
     "start_time": "2024-08-07T20:09:38.413771Z"
    }
   },
   "source": [
    ""
   ],
   "outputs": [],
   "execution_count": 12
  },
  {
   "metadata": {
    "ExecuteTime": {
     "end_time": "2024-08-07T20:09:38.420716Z",
     "start_time": "2024-08-07T20:09:38.418958Z"
    }
   },
   "cell_type": "code",
   "source": "",
   "id": "e6619da3752efac7",
   "outputs": [],
   "execution_count": 12
  }
 ],
 "metadata": {
  "kernelspec": {
   "display_name": "Python 3 (ipykernel)",
   "language": "python",
   "name": "python3"
  },
  "language_info": {
   "codemirror_mode": {
    "name": "ipython",
    "version": 3
   },
   "file_extension": ".py",
   "mimetype": "text/x-python",
   "name": "python",
   "nbconvert_exporter": "python",
   "pygments_lexer": "ipython3",
   "version": "3.11.2"
  }
 },
 "nbformat": 4,
 "nbformat_minor": 5
}
